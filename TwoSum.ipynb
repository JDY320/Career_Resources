{
 "cells": [
  {
   "cell_type": "code",
   "execution_count": null,
   "id": "115e2793-ede9-446d-9399-4a6f850bea99",
   "metadata": {},
   "outputs": [],
   "source": [
    "Example 1:\n",
    "\n",
    "Input: nums = [2,7,11,15], target = 9\n",
    "Output: [0,1]\n",
    "Output: Because nums[0] + nums[1] == 9, we return [0, 1].\n",
    "Example 2:\n",
    "\n",
    "Input: nums = [3,2,4], target = 6\n",
    "Output: [1,2]\n",
    "Example 3:\n",
    "\n",
    "Input: nums = [3,3], target = 6\n",
    "Output: [0,1]"
   ]
  },
  {
   "cell_type": "code",
   "execution_count": 1,
   "id": "edccbd0b-093c-4f0b-88ab-c1fb11212928",
   "metadata": {},
   "outputs": [],
   "source": [
    "nums = [2,7,11,15]"
   ]
  },
  {
   "cell_type": "code",
   "execution_count": 2,
   "id": "878ea4cc-9a46-4749-8fc8-bad158e2361c",
   "metadata": {},
   "outputs": [],
   "source": [
    "target = 9"
   ]
  },
  {
   "cell_type": "code",
   "execution_count": 3,
   "id": "cf5482dc-3798-4391-b05a-958306ed71bb",
   "metadata": {},
   "outputs": [],
   "source": [
    "# step 1: pulls index number if target is in list\n",
    "for i in nums:\n",
    "    index = nums.index(i)\n",
    "    \n",
    "    if i == target:\n",
    "        print(index)\n",
    "    "
   ]
  },
  {
   "cell_type": "code",
   "execution_count": 4,
   "id": "f639b08e-082a-4c80-9bc4-bf3123f722fb",
   "metadata": {},
   "outputs": [],
   "source": [
    "#2 sum of every pair of elements = target\n",
    "#for i in nums:\n",
    "#    print(i)\n",
    "    #print(nums[1])"
   ]
  },
  {
   "cell_type": "code",
   "execution_count": 5,
   "id": "3eb5eb7d-3f2b-4886-9212-68a5b73a60c2",
   "metadata": {},
   "outputs": [
    {
     "name": "stdout",
     "output_type": "stream",
     "text": [
      "0 1\n"
     ]
    }
   ],
   "source": [
    "for i in range(0,len(nums)-1):\n",
    "    for j in range(1,len(nums)-1):\n",
    "        sum = nums[i]+nums[j]\n",
    "        if sum == target:\n",
    "            print(i,j)\n",
    "    "
   ]
  },
  {
   "cell_type": "code",
   "execution_count": null,
   "id": "122cd9d4-bafc-465c-a8e5-41b96fdb4723",
   "metadata": {},
   "outputs": [],
   "source": [
    "#Example 2:\n",
    "#Input: nums = [3,2,4], target = 6\n",
    "#Output: [1,2]"
   ]
  },
  {
   "cell_type": "code",
   "execution_count": 6,
   "id": "53fe245f-061d-42a6-b8dc-511b29437d07",
   "metadata": {},
   "outputs": [],
   "source": [
    "nums = [3,2,4]\n",
    "target = 6"
   ]
  },
  {
   "cell_type": "code",
   "execution_count": 7,
   "id": "6dd3c71c-b475-4539-884a-578b2554ca90",
   "metadata": {},
   "outputs": [],
   "source": [
    "for i in nums:\n",
    "    if i == target:\n",
    "        print(nums.index(i))"
   ]
  },
  {
   "cell_type": "code",
   "execution_count": 8,
   "id": "284e5506-1c46-485a-a44a-660bf25b1997",
   "metadata": {},
   "outputs": [
    {
     "name": "stdout",
     "output_type": "stream",
     "text": [
      "1 2\n"
     ]
    }
   ],
   "source": [
    "for i in range(0,len(nums)-1):\n",
    "    for j in range(1,len(nums)):\n",
    "        sum = nums[i]+nums[j]\n",
    "        if sum == target:\n",
    "            print(i,j)"
   ]
  },
  {
   "cell_type": "code",
   "execution_count": 9,
   "id": "fb088c6b-f1f5-4750-90f1-02c75cf291c6",
   "metadata": {},
   "outputs": [],
   "source": [
    "#Example 3:\n",
    "#Input: nums = [3,3], target = 6\n",
    "#Output: [0,1]"
   ]
  },
  {
   "cell_type": "code",
   "execution_count": 11,
   "id": "148a0fdf-6d2b-4ff3-af80-90fe0aebb24f",
   "metadata": {},
   "outputs": [],
   "source": [
    "nums = [3,3]\n",
    "target = 6"
   ]
  },
  {
   "cell_type": "code",
   "execution_count": 12,
   "id": "e4925365-584c-45f0-b253-b91c965e3671",
   "metadata": {},
   "outputs": [],
   "source": [
    "for i in nums:\n",
    "    if i == target:\n",
    "        print(nums.index(i))"
   ]
  },
  {
   "cell_type": "code",
   "execution_count": 13,
   "id": "de979f97-d5db-4875-86b9-eac4c2f449a8",
   "metadata": {},
   "outputs": [
    {
     "name": "stdout",
     "output_type": "stream",
     "text": [
      "0 1\n"
     ]
    }
   ],
   "source": [
    "for i in range(0,len(nums)-1):\n",
    "    for j in range(1,len(nums)):\n",
    "        sum = nums[i]+nums[j]\n",
    "        if sum == target:\n",
    "            print(i,j)"
   ]
  }
 ],
 "metadata": {
  "kernelspec": {
   "display_name": "Python 3",
   "language": "python",
   "name": "python3"
  },
  "language_info": {
   "codemirror_mode": {
    "name": "ipython",
    "version": 3
   },
   "file_extension": ".py",
   "mimetype": "text/x-python",
   "name": "python",
   "nbconvert_exporter": "python",
   "pygments_lexer": "ipython3",
   "version": "3.8.8"
  }
 },
 "nbformat": 4,
 "nbformat_minor": 5
}
